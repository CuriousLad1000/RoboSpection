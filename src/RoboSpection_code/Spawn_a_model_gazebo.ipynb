{
 "cells": [
  {
   "cell_type": "code",
   "execution_count": 1,
   "id": "0a5a4043",
   "metadata": {},
   "outputs": [
    {
     "name": "stdout",
     "output_type": "stream",
     "text": [
      "Loaded!\n"
     ]
    }
   ],
   "source": [
    "from gazebo_msgs.srv import SpawnModel,SetModelState\n",
    "import rospy\n",
    "from geometry_msgs.msg import Pose, TransformStamped\n",
    "from gazebo_msgs.msg import ModelState \n",
    "from random import randrange\n",
    "import PyKDL\n",
    "import numpy as np\n",
    "import time\n",
    "import tf\n",
    "import tf2_ros\n",
    "import os\n",
    "\n",
    "    \n",
    "def Summon_model(model_type):\n",
    "    \n",
    "    model_name = model_type[0]\n",
    "    \n",
    "    models = [\"cylinder\", \"box\", \"sphere\", \"Aerofoil\", \"Carbon_hood_scoop\", \"submarine\", \"Satellite\", \n",
    "              \"Subaru\", \"roller_empty\", \"roller_tunnel\", \"pyramids\", \"waves\", \"weird\", \"SphereN\", \n",
    "              \"big_boat_shell\", \"SCANIA_D13_Engine\", \"fordv6_fixed\", \"ENGINE_L\", \"HORIZONTAL_R\", \"engine\", \n",
    "              \"Stator\", \"Bench\", \"HUB\", \"Plate\", \"CanTool\", \"BucketTool\", \"RakeTool\", \"ShowelTool\", \n",
    "              \"DiscBrake\", \"CrankShaft\", \"Piston\", \"Gearbox\", \"differential\", \"Transmission\", \"Bevelgear\", \"helical\" ]\n",
    "    \n",
    "    rot_quat = PyKDL.Rotation.RPY(np.radians(model_type[4]), np.radians(model_type[5]), np.radians(model_type[6])).GetQuaternion() #0.328462 0 0.000036 0 -1.570604 3.141059\n",
    "    model_pose = Pose()\n",
    "    model_pose.position.x = model_type[1]\n",
    "    model_pose.position.y = model_type[2]\n",
    "    model_pose.position.z =  model_type[3]\n",
    "    \n",
    "    model_pose.orientation.x = rot_quat[0]\n",
    "    model_pose.orientation.y = rot_quat[1]\n",
    "    model_pose.orientation.z = rot_quat[2]\n",
    "    model_pose.orientation.w = rot_quat[3]\n",
    "\n",
    "    spawn_model_client = rospy.ServiceProxy('gazebo/spawn_sdf_model', SpawnModel)\n",
    "    \n",
    "    for model in models:\n",
    "        if model in model_name:\n",
    "            print(f'Summoning {model}')\n",
    "            file_name = model\n",
    "\n",
    "    file_dir = os.path.dirname(os.path.realpath('__file__')) #current dir. path from where this file is executed\n",
    "    file_path = os.path.join(file_dir, '../sdf_models/')\n",
    "    \n",
    "    stat=spawn_model_client( model_name = model_name, model_xml=open(file_path + file_name + '_model.sdf', 'r').read(),\n",
    "        robot_namespace='', initial_pose=model_pose, reference_frame='world')\n",
    "    \n",
    "    if stat.success == False:\n",
    "        stat=update_model_pose(1, model_name, [model_type[1],model_type[2],model_type[3],model_type[4],model_type[5],model_type[6]])\n",
    "    \n",
    "    return stat\n",
    "\n",
    "\n",
    "\n",
    "def update_model_pose(hold_time, model_name, Task_pose):\n",
    "    \n",
    "    model_state_msg = ModelState()\n",
    "    t_end = time.time() + hold_time\n",
    "\n",
    "    while True:\n",
    "        model_state_msg.model_name = model_name\n",
    "        model_state_msg.pose.position.x = Task_pose[0]\n",
    "        model_state_msg.pose.position.y = Task_pose[1] \n",
    "        model_state_msg.pose.position.z = Task_pose[2]\n",
    "\n",
    "        model_rot_quat = PyKDL.Rotation.RPY(np.radians(Task_pose[3]), np.radians(Task_pose[4]), np.radians(Task_pose[5])).GetQuaternion()\n",
    "        model_state_msg.pose.orientation.x = model_rot_quat[0]\n",
    "        model_state_msg.pose.orientation.y = model_rot_quat[1]\n",
    "        model_state_msg.pose.orientation.z = model_rot_quat[2]\n",
    "        model_state_msg.pose.orientation.w = model_rot_quat[3]\n",
    "        resp = set_state( model_state_msg )\n",
    "        if(time.time() > t_end):\n",
    "            break\n",
    "    return resp \n",
    "\n",
    "\n",
    "def publish_tf(model_pose, parent_frame, child_frame):\n",
    "    static_transformStamped.header.stamp = rospy.Time.now()\n",
    "    static_transformStamped.header.frame_id = parent_frame\n",
    "    static_transformStamped.child_frame_id = child_frame\n",
    "\n",
    "    static_transformStamped.transform.translation.x = model_pose[0]\n",
    "    static_transformStamped.transform.translation.y = model_pose[1]\n",
    "    static_transformStamped.transform.translation.z = model_pose[2]\n",
    "\n",
    "    quat = tf.transformations.quaternion_from_euler(np.radians(model_pose[3]),np.radians(model_pose[4]),np.radians(model_pose[5]))\n",
    "    static_transformStamped.transform.rotation.x = quat[0]\n",
    "    static_transformStamped.transform.rotation.y = quat[1]\n",
    "    static_transformStamped.transform.rotation.z = quat[2]\n",
    "    static_transformStamped.transform.rotation.w = quat[3]\n",
    "    broadcaster.sendTransform(static_transformStamped)\n",
    "\n",
    "\n",
    "\n",
    "rospy.init_node('insert_object',log_level=rospy.INFO)\n",
    "rospy.wait_for_service('/gazebo/spawn_sdf_model')\n",
    "set_state = rospy.ServiceProxy('/gazebo/set_model_state', SetModelState)\n",
    "\n",
    "broadcaster = tf2_ros.StaticTransformBroadcaster()\n",
    "static_transformStamped = TransformStamped()\n",
    "\n",
    "\n",
    "\n",
    "def multi_objects():\n",
    "    model_type = ['Plate_'+ str(101), 0.295, 0.329, 0.1, 0, 0, 90]\n",
    "    Summon_model(model_type)\n",
    "\n",
    "    model_type = ['Stator_'+ str(101), 0.297, -0.256, 0, 0, 0, 90]\n",
    "    #model_type = ['CanTool_'+ str(101), 0.453, 0.064, 0, 0, 0, 90]\n",
    "    Summon_model(model_type)\n",
    "    \n",
    "    model_type = ['BucketTool_'+ str(101), 0.319, -0.610, 0.21, 180, 0, 0]\n",
    "    Summon_model(model_type)\n",
    "    \n",
    "    model_type = ['ShowelTool_'+ str(101), 0.202, 0.626, 0.1, 0, 0, 0]\n",
    "    Summon_model(model_type)\n",
    "\n",
    "\n",
    "def crank_piston_disk():\n",
    "    \n",
    "    model_type = ['DiscBrake_'+ str(101),  0.310,   0.335,   0.13,      0, 0, 0]\n",
    "    Summon_model(model_type)\n",
    "    model_type = ['Piston_'+ str(101),     0.332,  -0.111,   0.050,   0, 0, 0]\n",
    "    Summon_model(model_type)\n",
    "    \n",
    "    model_type = ['CrankShaft_'+ str(101), 0.652, 0.398,     0.13,      90, 0, 0]\n",
    "    Summon_model(model_type)\n",
    "\n",
    "def gears():\n",
    "    model_type = ['Bevelgear_'+ str(101), 0.4, -0.15, 0.0283, 102, 90, 90]\n",
    "    Summon_model(model_type)\n",
    "    model_type = ['helical_'+ str(101), 0.263, 0.332, 0.1, 0, 0, -90]\n",
    "    Summon_model(model_type)\n",
    "\n",
    "\n",
    "print(\"Loaded!\")"
   ]
  },
  {
   "cell_type": "markdown",
   "id": "61e2eb6f",
   "metadata": {},
   "source": [
    "### FOR STL models"
   ]
  },
  {
   "cell_type": "code",
   "execution_count": 2,
   "id": "e562ebf3",
   "metadata": {},
   "outputs": [
    {
     "name": "stdout",
     "output_type": "stream",
     "text": [
      "Summoning DiscBrake\n",
      "Summoning Piston\n",
      "Summoning CrankShaft\n"
     ]
    }
   ],
   "source": [
    "#model_type = ['Aerofoil_'+ str(101), 1.6, -0.65, 0.1, 0, 0, 0]\n",
    "#model_type = ['Carbon_hood_scoop_'+ str(101), 0.6, 0, 0.15, 0, 0, 0]\n",
    "\n",
    "#model_type = ['submarine_'+ str(101), 0.55, 0, 0.0, 0, 0, 90]\n",
    "#model_type = ['Satellite_'+ str(101), 1.0, -0.8, 0.15, 0, 0, -90]\n",
    "#model_type = ['roller_empty_'+ str(103),0.4, -0.1, 0.03, 0, 0, 90]\n",
    "#model_type = ['roller_tunnel_'+ str(103),0.1, 0, 0, 0, 0, 90]\n",
    "#model_type = ['Subaru_'+ str(101), 0.5, 0, 0.15, 0, 0, 0]\n",
    "#model_type = ['waves_'+ str(101), 0.8, -0.6, -0.10, 0, 0, 0]\n",
    "#model_type = ['weird_'+ str(101), 2.1, -0.9, 0, 0, 0, 0]\n",
    "\n",
    "#model_type = ['Subaru_'+ str(101), 0.4, 0, 0.15, 0, 0, 0]\n",
    "#model_type = ['weird_'+ str(101), 2.7, -1.4, 0, 0, 0, 0]\n",
    "#model_type = ['SphereN_'+ str(101), 0.6, 0, 0.25, 0, 0, 0]\n",
    "\n",
    "\n",
    "#model_type = ['big_boat_shell_'+ str(101), 0.1, -0.4, 0.4, -90, 0, -90]\n",
    "#model_type = ['SCANIA_D13_Engine_'+ str(101), 1.0, -0.6, 0.4, 0, 0, 90]\n",
    "#model_type = ['HORIZONTAL_R_'+ str(101), 4.2, 2.45, -0.63, 0, 0, 119]\n",
    "#model_type = ['ENGINE_L_'+ str(101), 0.8, -16, 2.32, 0, 90, 0]\n",
    "#model_type = ['fordv6_fixed_'+ str(101), 0.52, 0, 0, 0, 0, 90]\n",
    "\n",
    "\n",
    "#model_type = ['engine_'+ str(101), 0.15, -0.3, 0.5, -90, 0, 0]\n",
    "#model_type = ['Stator_'+ str(101), 0.4, 0, 0, 0, 0, 90]\n",
    "\n",
    "#model_type = ['Bench_'+ str(101), 0.2, 0, 0, 0, 0, -90]\n",
    "\n",
    "#model_type = ['HUB_'+ str(101), 0.5, 0, 0.1, 0, 0, 90]\n",
    "#model_type = ['Plate_'+ str(101), 0.3, 0, 0.1, 0, 0, 90]\n",
    "#model_type = ['CanTool_'+ str(101), 0.1, 0.2, 0, 0, 0, 90]\n",
    "#model_type = ['BucketTool_'+ str(101), 0.1, -0.6, 0.21, 180, 0, 0]\n",
    "#model_type = ['RakeTool_'+ str(101), 0.4, -0.3, 0.1, 0, 0, 90]\n",
    "#model_type = ['ShowelTool_'+ str(101), -0.05, 0.3, 0.1, 0, 0, 0]\n",
    "\n",
    "#model_type = ['DiscBrake_'+ str(101),  0.310,   0.335,   0.13,      0, 0, 0]\n",
    "#model_type = ['Piston_'+ str(101),     0.332,  -0.111,   0.050,   0, 0, 0]\n",
    "#model_type = ['CrankShaft_'+ str(101), 0.652, 0.398,     0.13,      90, 0, 0]\n",
    "\n",
    "\n",
    "\n",
    "#model_type = ['differential_'+ str(101), 0.4, 0, 0, 90, 0, -90]\n",
    "#model_type = ['Gearbox_'+ str(101), 0.4, -0.3, 0, 0, 0, 90]\n",
    "\n",
    "#model_type = ['Transmission_'+ str(101), 0.4, 0, 0, 0, 0, 0]\n",
    "#model_type = ['Bevelgear_'+ str(101), 0.4, -0.15, 0.0283, 102, 90, 90]\n",
    "#model_type = ['helical_'+ str(101), 0.263, 0.332, 0.1, 0, 0, -90]\n",
    "\n",
    "\n",
    "\n",
    "\n",
    "\n",
    "\n",
    "#model_type = ['Bevelgear_'+ str(101), 0.4, -0.15, 0.0283, 102, 90, 90]\n",
    "#model_type = ['Gearbox_'+ str(101), 0.55, -0.55, 0, 0, 0, 90]\n",
    "#model_type = ['HORIZONTAL_R_'+ str(101), 4.2, 2.45, -0.63, 0, 0, 119]\n",
    "#model_type = ['fordv6_fixed_'+ str(101), 0.52, 0, 0, 0, 0, 90]\n",
    "#Summon_model(model_type)\n",
    "\n",
    "\n",
    "crank_piston_disk()\n",
    "\n",
    "\n",
    "\n",
    "\n",
    "\n",
    "\n",
    "#crank_piston_disk()\n",
    "#gears()\n",
    "\n"
   ]
  },
  {
   "cell_type": "markdown",
   "id": "92c8f7ec",
   "metadata": {
    "jp-MarkdownHeadingCollapsed": true
   },
   "source": [
    "## FOR BOX"
   ]
  },
  {
   "cell_type": "code",
   "execution_count": null,
   "id": "53a16624",
   "metadata": {},
   "outputs": [],
   "source": [
    "box_name = 'Test_box_'+ str(101)\n",
    "box_X = 0.5\n",
    "box_Y = 0.0\n",
    "box_Z = 0.1\n",
    "\n",
    "box_R = 0\n",
    "box_P = 0\n",
    "box_Yaw = 0\n",
    "\n",
    "model_type = [model_name,model_X,model_Y,model_Z,model_R,model_P,model_Yaw]\n",
    "\n",
    "Summon_model(model_type)"
   ]
  },
  {
   "cell_type": "markdown",
   "id": "8215536f",
   "metadata": {},
   "source": [
    "### Update Box Pose"
   ]
  },
  {
   "cell_type": "code",
   "execution_count": null,
   "id": "c66d8998",
   "metadata": {
    "scrolled": true
   },
   "outputs": [],
   "source": [
    "Box_pose = [0.3, 0.0, 0.1, 45., 45., 0.]\n",
    "\n",
    "parent_frame = \"world\"\n",
    "child_frame = \"gt_plane\"\n",
    "result = update_model_pose(1, box_name, Box_pose)\n",
    "publish_tf(Box_pose, parent_frame, child_frame)\n",
    "result"
   ]
  },
  {
   "cell_type": "markdown",
   "id": "13b108d6",
   "metadata": {
    "jp-MarkdownHeadingCollapsed": true
   },
   "source": [
    "## FOR CYLINDER"
   ]
  },
  {
   "cell_type": "code",
   "execution_count": null,
   "id": "2cded1b4",
   "metadata": {},
   "outputs": [],
   "source": [
    "model_name = 'Test_cylinder_'+ str(101)\n",
    "model_X = 0.3\n",
    "model_Y = 0.0\n",
    "model_Z = 0.1\n",
    "\n",
    "model_R = 90\n",
    "model_P = 0\n",
    "model_Yaw = 90\n",
    "\n",
    "model_type = [model_name,model_X,model_Y,model_Z,model_R,model_P,model_Yaw]\n",
    "\n",
    "Summon_model(model_type)"
   ]
  },
  {
   "cell_type": "markdown",
   "id": "61ab63d9",
   "metadata": {},
   "source": [
    "### Update Cylinder Pose"
   ]
  },
  {
   "cell_type": "code",
   "execution_count": null,
   "id": "8d5a8a98",
   "metadata": {},
   "outputs": [],
   "source": [
    "Cylinder_pose = [0.3, 0.0, 0.1, 90., 0., 90.]\n",
    "\n",
    "parent_frame = \"world\"\n",
    "child_frame = \"gt_cylinder\"\n",
    "result = update_model_pose(1, model_name, Cylinder_pose)\n",
    "publish_tf(Cylinder_pose, parent_frame, child_frame)\n",
    "result"
   ]
  },
  {
   "cell_type": "code",
   "execution_count": null,
   "id": "9c6c4540",
   "metadata": {},
   "outputs": [],
   "source": []
  },
  {
   "cell_type": "markdown",
   "id": "6487bf2d",
   "metadata": {
    "jp-MarkdownHeadingCollapsed": true
   },
   "source": [
    "## FOR SPHERE"
   ]
  },
  {
   "cell_type": "code",
   "execution_count": null,
   "id": "d4ba7e73",
   "metadata": {},
   "outputs": [],
   "source": [
    "model_name = 'Test_sphere_'+ str(101)\n",
    "model_X = 0.3\n",
    "model_Y = 0.0\n",
    "model_Z = 0.05\n",
    "\n",
    "model_R = 90\n",
    "model_P = 0\n",
    "model_Yaw = 90\n",
    "\n",
    "model_type = [model_name,model_X,model_Y,model_Z,model_R,model_P,model_Yaw]\n",
    "\n",
    "Summon_model(model_type)"
   ]
  },
  {
   "cell_type": "markdown",
   "id": "cd821ed4",
   "metadata": {},
   "source": [
    "### Update Sphere Pose"
   ]
  },
  {
   "cell_type": "code",
   "execution_count": null,
   "id": "4ba68199",
   "metadata": {},
   "outputs": [],
   "source": [
    "Capsule_pose = [0.3, 0.0, 0.05, 0., 0., 0.]\n",
    "\n",
    "parent_frame = \"world\"\n",
    "child_frame = \"gt_sphere\"\n",
    "result = update_model_pose(1, model_name, Capsule_pose)\n",
    "publish_tf(Capsule_pose, parent_frame, child_frame)\n",
    "result"
   ]
  }
 ],
 "metadata": {
  "kernelspec": {
   "display_name": "Python 3 (ipykernel)",
   "language": "python",
   "name": "python3"
  },
  "language_info": {
   "codemirror_mode": {
    "name": "ipython",
    "version": 3
   },
   "file_extension": ".py",
   "mimetype": "text/x-python",
   "name": "python",
   "nbconvert_exporter": "python",
   "pygments_lexer": "ipython3",
   "version": "3.8.10"
  }
 },
 "nbformat": 4,
 "nbformat_minor": 5
}
